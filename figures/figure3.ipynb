{
 "cells": [
  {
   "cell_type": "code",
   "execution_count": 1,
   "id": "97bb46c5-af96-4a17-8a78-f04770cbce2e",
   "metadata": {},
   "outputs": [],
   "source": [
    "import rpy2\n",
    "\n",
    "%load_ext rpy2.ipython"
   ]
  },
  {
   "cell_type": "code",
   "execution_count": 2,
   "id": "6bc15693-d02d-4b32-a216-57147e460dc6",
   "metadata": {},
   "outputs": [
    {
     "name": "stdout",
     "output_type": "stream",
     "text": [
      "── Attaching core tidyverse packages ──────────────────────── tidyverse 2.0.0 ──\n",
      "✔ dplyr     1.1.4     ✔ readr     2.1.5\n",
      "✔ forcats   1.0.0     ✔ stringr   1.5.1\n",
      "✔ ggplot2   3.5.1     ✔ tibble    3.2.1\n",
      "✔ lubridate 1.9.3     ✔ tidyr     1.3.1\n",
      "✔ purrr     1.0.2     \n",
      "── Conflicts ────────────────────────────────────────── tidyverse_conflicts() ──\n",
      "✖ dplyr::filter() masks stats::filter()\n",
      "✖ dplyr::lag()    masks stats::lag()\n",
      "ℹ Use the conflicted package (<http://conflicted.r-lib.org/>) to force all conflicts to become errors\n"
     ]
    }
   ],
   "source": [
    "%%R\n",
    "library(tidyverse)\n",
    "library(ggpubr)\n"
   ]
  },
  {
   "cell_type": "code",
   "execution_count": 3,
   "id": "4be4a5fb-eeef-404f-a3a1-8f3e67a6ec41",
   "metadata": {},
   "outputs": [
    {
     "name": "stdout",
     "output_type": "stream",
     "text": [
      "Rows: 5257244 Columns: 16\n",
      "── Column specification ────────────────────────────────────────────────────────\n",
      "Delimiter: \",\"\n",
      "chr  (3): chr, species, genus\n",
      "dbl (13): start, end, freq_mean, freq_min, freq_max, freq_median, window_siz...\n",
      "\n",
      "ℹ Use `spec()` to retrieve the full column specification for this data.\n",
      "ℹ Specify the column types or set `show_col_types = FALSE` to quiet this message.\n",
      "Rows: 57 Columns: 2\n",
      "── Column specification ────────────────────────────────────────────────────────\n",
      "Delimiter: \"\\t\"\n",
      "chr (2): genus, pg_name\n",
      "\n",
      "ℹ Use `spec()` to retrieve the full column specification for this data.\n",
      "ℹ Specify the column types or set `show_col_types = FALSE` to quiet this message.\n",
      "New names:\n",
      "• `` -> `...1`\n",
      "Rows: 5071829 Columns: 25\n",
      "── Column specification ────────────────────────────────────────────────────────\n",
      "Delimiter: \",\"\n",
      "chr  (4): genus, species, FAMILY, chr\n",
      "dbl (21): ...1, Unnamed: 0, MEAN, MEDIAN, VARIANCE, NE_MEAN, NE_MEDIAN, NE_V...\n",
      "\n",
      "ℹ Use `spec()` to retrieve the full column specification for this data.\n",
      "ℹ Specify the column types or set `show_col_types = FALSE` to quiet this message.\n"
     ]
    }
   ],
   "source": [
    "%%R\n",
    "df20 <- read_delim('../results/combined/all.csv', delim=',') %>% group_by(genus,species) %>% mutate(recomb_bin = ntile(cm_per_mb, 20))\n",
    "pg_namedf <- read_delim('../data/genus_phylogenetic_group_metadata.txt', delim='\\t')\n",
    "merge_pg_name <- left_join(df20,pg_namedf, by = c('genus'='genus'))\n",
    "merge_pg_name$pg_name <- as_factor(merge_pg_name$pg_name)\n",
    "nes <- read_delim('../results/model/Nested_model/Ne_Pi_recomb.csv', delim = ',') %>% select('genus','species','NE_MEAN','NE_MEDIAN')\n",
    "nes <- nes %>% \n",
    "    group_by(genus,species) %>%\n",
    "    reframe(\n",
    "        NE_MEAN = mean(NE_MEAN),\n",
    "        NE_MEDIAN = mean(NE_MEDIAN))"
   ]
  },
  {
   "cell_type": "code",
   "execution_count": 4,
   "id": "c5030c26-5356-4f33-81a5-5afefe7ac28b",
   "metadata": {},
   "outputs": [
    {
     "ename": "SyntaxError",
     "evalue": "expression cannot contain assignment, perhaps you meant \"==\"? (1309648289.py, line 1)",
     "output_type": "error",
     "traceback": [
      "\u001b[0;36m  Cell \u001b[0;32mIn[4], line 1\u001b[0;36m\u001b[0m\n\u001b[0;31m    merged_tibble <- left_join(nes,tester, by = c('species' = 'species', 'genus'='genus'))\u001b[0m\n\u001b[0m                                                  ^\u001b[0m\n\u001b[0;31mSyntaxError\u001b[0m\u001b[0;31m:\u001b[0m expression cannot contain assignment, perhaps you meant \"==\"?\n"
     ]
    }
   ],
   "source": [
    "%%R\n",
    "merged_tibble <- left_join(nes,tester, by = c('species' = 'species', 'genus'='genus'))\n",
    "merged_tibble"
   ]
  },
  {
   "cell_type": "code",
   "execution_count": null,
   "id": "1c569a58-efcd-4963-b7a3-dddb7cdbc9ca",
   "metadata": {},
   "outputs": [],
   "source": [
    "%%R\n",
    "pi_log_r_example <- merged_tibble %>%  \n",
    "    filter(genus %in% c('Pongo','Eulemur','Macaca','Pithecia') & species %in% c('abelii','fulvus','fascicularis','albicans')) %>%\n",
    "    ggplot(aes(x = log10(cm_per_mb), y = mean_pi, group = species))+\n",
    "    geom_point(aes(fill=species),color = 'black', size = 3, alpha = 1, shape = 21, stroke = 1)+\n",
    "    geom_smooth(method = 'lm', se = F, aes( col = species))+\n",
    "    scale_color_manual(values = c('#240a34','#891652','#eabe6c','#db7552'))+\n",
    "    scale_fill_manual(values = c('#240a34','#891652','#eabe6c','#db7552'))+\n",
    "    labs(x = \"Log10 Recombination Rate (cM/mb)\", y = \"Average pairwise differences (π)\", title = \"\", size = 55) +\n",
    "    ggpubr::theme_pubr(legend = 'none') +\n",
    "    scale_x_continuous(expand = c(0, 0))+\n",
    "    scale_y_continuous(expand = expansion(mult = c(0,0)))\n",
    "pi_log_r_example"
   ]
  },
  {
   "cell_type": "code",
   "execution_count": null,
   "id": "a623fbd7-5cd4-4692-a80a-56c98200d3e9",
   "metadata": {},
   "outputs": [],
   "source": [
    "%%R\n",
    "z_scores_pi <- merged_tibble %>% \n",
    "    ggplot(aes(x = z_cm, y = z_pi, group = species, col = log10(NE_MEDIAN)))+\n",
    "    #geom_point()+\n",
    "    geom_line(alpha = .4, size =1.5)+\n",
    "    theme(legend.position = 'none')+\n",
    "    scale_colour_viridis_c(name = \"Effective population size\")+\n",
    "    #scale_color_continuous(name = \"Effective population size\", low = \"#ffff33\", high = \"#e41a1c\",\n",
    "    #                       breaks = log10(c(10000,30000, 100000, 300000)),\n",
    "    #                       labels = c('10','30',\"100\",'300'))+\n",
    "    labs(x = \"Z score of Recombination Rate\", y = \"Z score of π\", title = \"\", size = 55) +\n",
    "    ggpubr::theme_pubr() +\n",
    "    #theme(legend.position = 'none')+\n",
    "    scale_x_continuous(expand = c(0, 0)) +\n",
    "    scale_y_continuous(expand = expansion(mult = c(0,0)))"
   ]
  },
  {
   "cell_type": "code",
   "execution_count": null,
   "id": "49773a8f-4b0b-478c-99d8-7d92ce5bf15c",
   "metadata": {},
   "outputs": [],
   "source": [
    "%%R -h 800 -w 800\n",
    "z_scores_pi_log_cm <- merged_tibble %>% \n",
    "    ggplot(aes(x = log10(cm_per_mb), y = z_pi, group = species, col = log10(NE_MEDIAN)))+\n",
    "    geom_point()+\n",
    "    geom_line(alpha = 2, size =1.5)+\n",
    "    theme(legend.position = 'none')+\n",
    "    #scale_colour_viridis_c(name = \"Effective population size\n",
    "    scale_color_continuous(name = \"Effective population size\", low = \"#891652\", high = \"#eabe6c\",\n",
    "                           breaks = log10(c(10000,30000, 100000, 300000)),\n",
    "                           labels = c('10','30',\"100\",'300'))+\n",
    "    labs(x = \"log10 Recombination Rate\", y = \"Z score of π\", title = \"\", size = 55) +\n",
    "    ggpubr::theme_pubr() #+\n",
    "    #theme(legend.position = 'none')+ \"#9C964A\", \"#CDC08C\"\n",
    "   # scale_x_continuous(expand = c(0, 0)) +\n",
    "    #scale_y_continuous(expand = expansion(mult = c(0,0)))\n",
    "print(z_scores_pi_log_cm)"
   ]
  },
  {
   "cell_type": "code",
   "execution_count": null,
   "id": "2658a3fc-c026-48bc-9cb0-ae07376de7e5",
   "metadata": {},
   "outputs": [],
   "source": [
    "%%R \n",
    "library(tidyverse)\n",
    "a <- read_delim('../../results/model/Nested_model/log_ne_log_cm_sd_pi/a_24_04_2024.tsv', delim=\"\\t\")\n",
    "b <- read_delim('../../results/model/Nested_model/log_ne_log_cm_sd_pi/b_24_04_2024.tsv', delim=\"\\t\")\n",
    "h0 <- read_delim('../../results/model/Nested_model/log_ne_log_cm_sd_pi/h0_24_04_2024.tsv', delim=\"\\t\")\n",
    "h1 <- read_delim('../../results/model/Nested_model/log_ne_log_cm_sd_pi/h1_24_04_2024.tsv', delim =\"\\t\")\n",
    "Ne <- read_csv('../../results/model/Nested_model/log_scaled_z_scores.csv') %>% select(full_species,NE_MEDIAN,z_ne) %>% distinct(full_species, .keep_all=TRUE) %>% separate(full_species, into = c(\"genus\", \"species\"), sep = \"_\", remove = FALSE)\n",
    "pg_namedf <- read_delim('../../data/genus_phylogenetic_group_metadata.txt', delim='\\t')"
   ]
  },
  {
   "cell_type": "code",
   "execution_count": null,
   "id": "1bc46f69-4491-4ddd-be0c-ad72ddb66b44",
   "metadata": {},
   "outputs": [],
   "source": [
    "%%R\n",
    "# Define parameters\n",
    "sample <- 1000\n",
    "h0_vec <- sample(h0$h0, sample, replace = TRUE)\n",
    "h1_vec <- sample(h1$h1, sample, replace = TRUE)\n",
    "\n",
    "# Generate sampled points\n",
    "sampled_points <- map_dfr(1:sample, ~{\n",
    "  alpha <- sample(h0_vec, 1)\n",
    "  beta <- sample(h1_vec, 1)\n",
    "  tibble(x = seq(4000, 5000000, by = 1000), y = alpha + beta * log10(x), logx = log10(x))\n",
    "})\n",
    "\n",
    "sampled_points$x <- as.character(sampled_points$x)\n",
    "\n",
    "HPDI_h1_ne <- sampled_points %>% \n",
    "    group_by(x,logx) %>%\n",
    "    reframe(\n",
    "        fifty_low = quantile(y,0.25),\n",
    "        fifty_max = quantile(y,0.75),\n",
    "        seventyfive_low = quantile(y,0.125),\n",
    "        seventyfive_max = quantile(y,0.875),\n",
    "        ninetyfive_low = quantile(y,0.025),\n",
    "        ninetyfive_max = quantile(y,0.975)\n",
    "        )\n",
    "HPDI_h1_ne$x <- as.double(HPDI_h1_ne$x)\n",
    "HPDI_h1_ne"
   ]
  },
  {
   "cell_type": "code",
   "execution_count": null,
   "id": "17199f2a-55b5-43c8-ba90-31fac1a32ce2",
   "metadata": {},
   "outputs": [],
   "source": [
    "%%R\n",
    "b_species <- b %>% \n",
    "    group_by(Species) %>% reframe(\n",
    "    upper = quantile(b,.95),\n",
    "    lower = quantile(b,.05),\n",
    "    b = mean(b))\n",
    "b_species\n",
    "merged_data <- merge(b_species, Ne, by.x = \"Species\", by.y = \"full_species\", all.x = TRUE) \n",
    "merged_data <- merge(merged_data, pg_namedf, by.x = \"genus\", by.y = \"genus\", all.x = TRUE)"
   ]
  },
  {
   "cell_type": "code",
   "execution_count": null,
   "id": "3682ae0f-192f-4880-9788-db5815452afb",
   "metadata": {},
   "outputs": [],
   "source": [
    "%%R\n",
    "# Calculate the posterior predictive distribution at a given x\n",
    "posterior_predictive <- function(x, slope_samples, intercept_samples) {\n",
    "  slope_samples * x + intercept_samples\n",
    "}\n",
    "\n",
    "# Calculate the credibility interval\n",
    "credibility_interval <- function(x, slope_samples, intercept_samples, prob = c(0.025, 0.975)) {\n",
    "  quantile(posterior_predictive(x, slope_samples, intercept_samples), prob)\n",
    "}\n",
    "\n",
    "# Use the function\n",
    "x_values <- c()\n",
    "lower_bounds <- c()\n",
    "upper_bounds <- c()\n",
    "\n",
    "# Calculate the credibility intervals for each x value\n",
    "for (i in log10(merged_data$NE_MEDIAN)) {\n",
    "    cred_int <- credibility_interval(i, h1$h1, h0$h0)\n",
    "    x_values <- c(x_values, i)\n",
    "    lower_bounds <- c(lower_bounds, cred_int[1])\n",
    "    upper_bounds <- c(upper_bounds, cred_int[2])\n",
    "}\n",
    "\n",
    "# Create a data frame\n",
    "mean_reg_line <- data.frame(\n",
    "    x = x_values,\n",
    "    lower_bound = lower_bounds,\n",
    "    upper_bound = upper_bounds\n",
    ")\n"
   ]
  },
  {
   "cell_type": "code",
   "execution_count": null,
   "id": "bfe1a4ec-081d-4e0f-b66c-e96a800bfc77",
   "metadata": {},
   "outputs": [],
   "source": [
    "%%R -w 1000 -h 1000\n",
    "fig3_par1 <- merged_data %>% \n",
    "    ggplot()+\n",
    "    geom_errorbar(aes(x = log10(NE_MEDIAN), ymin=lower, ymax=upper), col = 'black', width=.005,\n",
    "                     position=position_dodge(.9)) +\n",
    "    geom_point(aes(x=log10(NE_MEDIAN),y=b,fill=pg_name), color = 'black', size = 3, alpha = 1, shape = 21, stroke = 1)+\n",
    "    geom_ribbon(data=mean_reg_line, aes(x= x, ymin = lower_bound, ymax = upper_bound), fill='grey', alpha = .5)+\n",
    "    geom_line(aes(x=log10(NE_MEDIAN), y=(mean(h0$h0))+(mean(h1$h1)*log10(NE_MEDIAN))), lty = 2, size =2)+\n",
    "    scale_fill_manual(values=c('#240a34','#891652','#eabe6c','#db7552')) +\n",
    "     ylab(\"Impact of Linked Selection\")+\n",
    "     xlab('Log10 Effecive population size')+\n",
    "    scale_x_continuous(expand = c(0, 0), limits = c(4,5.6))+\n",
    "    scale_y_continuous(expand = expansion(mult = c(0,0)))+\n",
    "    ggpubr::theme_pubr(legend = 'none')\n",
    "print(fig3_par1)"
   ]
  },
  {
   "cell_type": "code",
   "execution_count": null,
   "id": "9ac4ea8d-5992-4140-92d9-da59fac753e2",
   "metadata": {},
   "outputs": [],
   "source": []
  },
  {
   "cell_type": "code",
   "execution_count": null,
   "id": "61d5a54b-10b5-4258-b215-81d398d5505c",
   "metadata": {},
   "outputs": [],
   "source": [
    "%%R\n",
    "fig3 <- ggarrange(\n",
    "  ggarrange(z_scores_pi_log_cm, pi_log_r_example, ncol = 1), # First column with two plots stacked vertically\n",
    "  fig3_par1,                                             # Second column with one plot\n",
    "    \n",
    "  ncol = 2                                           # Two columns in total\n",
    ")\n",
    "print(fig3)"
   ]
  },
  {
   "cell_type": "code",
   "execution_count": null,
   "id": "bbab0622-fa03-48d8-b39d-89a516f39862",
   "metadata": {},
   "outputs": [],
   "source": [
    "%%R\n",
    "\n",
    "\n",
    "# Save the plot\n",
    "ggsave('figure3_impact_model.svg', plot = fig3)"
   ]
  }
 ],
 "metadata": {
  "kernelspec": {
   "display_name": "Python 3 (ipykernel)",
   "language": "python",
   "name": "python3"
  },
  "language_info": {
   "codemirror_mode": {
    "name": "ipython",
    "version": 3
   },
   "file_extension": ".py",
   "mimetype": "text/x-python",
   "name": "python",
   "nbconvert_exporter": "python",
   "pygments_lexer": "ipython3",
   "version": "3.12.3"
  }
 },
 "nbformat": 4,
 "nbformat_minor": 5
}
