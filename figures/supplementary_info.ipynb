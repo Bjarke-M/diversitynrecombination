{
 "cells": [
  {
   "cell_type": "code",
   "execution_count": 1,
   "id": "72de09a0-6e33-48a7-89f4-17df8844eed2",
   "metadata": {},
   "outputs": [],
   "source": [
    "import rpy2\n",
    "\n",
    "%load_ext rpy2.ipython"
   ]
  },
  {
   "cell_type": "markdown",
   "id": "6a91c6b7-7b09-4649-ba1e-8d5f046130c5",
   "metadata": {},
   "source": [
    "# S1 Table over sample size per species and the species included in the analysis "
   ]
  },
  {
   "cell_type": "code",
   "execution_count": 2,
   "id": "80f82c8a-d01f-4959-bf2e-c7b0f82ecd4c",
   "metadata": {},
   "outputs": [
    {
     "name": "stdout",
     "output_type": "stream",
     "text": [
      "── Attaching core tidyverse packages ──────────────────────── tidyverse 2.0.0 ──\n",
      "✔ dplyr     1.1.4     ✔ readr     2.1.5\n",
      "✔ forcats   1.0.0     ✔ stringr   1.5.1\n",
      "✔ ggplot2   3.5.1     ✔ tibble    3.2.1\n",
      "✔ lubridate 1.9.3     ✔ tidyr     1.3.1\n",
      "✔ purrr     1.0.2     \n",
      "── Conflicts ────────────────────────────────────────── tidyverse_conflicts() ──\n",
      "✖ dplyr::filter() masks stats::filter()\n",
      "✖ dplyr::lag()    masks stats::lag()\n",
      "ℹ Use the conflicted package (<http://conflicted.r-lib.org/>) to force all conflicts to become errors\n",
      "New names:\n",
      "• `` -> `...1`\n",
      "Rows: 5071829 Columns: 12\n",
      "── Column specification ────────────────────────────────────────────────────────\n",
      "Delimiter: \",\"\n",
      "chr (4): genus, species, full_species, chr\n",
      "dbl (8): ...1, MEAN, MEDIAN, NE_MEAN, NE_MEDIAN, freq_mean, cm_per_mb, PI\n",
      "\n",
      "ℹ Use `spec()` to retrieve the full column specification for this data.\n",
      "ℹ Specify the column types or set `show_col_types = FALSE` to quiet this message.\n",
      "Rows: 810 Columns: 6\n",
      "── Column specification ────────────────────────────────────────────────────────\n",
      "Delimiter: \",\"\n",
      "chr (6): PDGP_ID, Genus, Species, FROH, Sex, ref_assembly\n",
      "\n",
      "ℹ Use `spec()` to retrieve the full column specification for this data.\n",
      "ℹ Specify the column types or set `show_col_types = FALSE` to quiet this message.\n"
     ]
    }
   ],
   "source": [
    "%%R\n",
    "library(tidyverse)\n",
    "\n",
    "df <- read_delim('../results/model/Nested_model/Reduced_Ne_Pi_recomb.csv')\n",
    "samples <- read_delim('../data/PDGP_metadata.txt') %>% mutate(full_species = paste(Genus, Species, sep = '_'))"
   ]
  },
  {
   "cell_type": "code",
   "execution_count": 3,
   "id": "c56218a8-f3ff-4f0e-8cf3-461a7a91c1ac",
   "metadata": {},
   "outputs": [
    {
     "name": "stdout",
     "output_type": "stream",
     "text": [
      "# A tibble: 234 × 2\n",
      "   full_species                count\n",
      "   <chr>                       <int>\n",
      " 1 Allenopithecus_nigroviridis     2\n",
      " 2 Allochrocebus_lhoesti           2\n",
      " 3 Allochrocebus_preussi           1\n",
      " 4 Allochrocebus_solatus           1\n",
      " 5 Alouatta_belzebul               1\n",
      " 6 Alouatta_caraya                 2\n",
      " 7 Alouatta_discolor               2\n",
      " 8 Alouatta_juara                  2\n",
      " 9 Alouatta_macconnelli            5\n",
      "10 Alouatta_nigerrima              2\n",
      "# ℹ 224 more rows\n",
      "# ℹ Use `print(n = ...)` to see more rows\n"
     ]
    }
   ],
   "source": [
    "%%R\n",
    "total_sample_count <- samples %>% \n",
    "    group_by(full_species) %>%\n",
    "    reframe(\n",
    "        count = n())\n",
    "total_sample_count"
   ]
  },
  {
   "cell_type": "code",
   "execution_count": 4,
   "id": "d0334f75-fc78-49c6-88a6-9f6b52daba04",
   "metadata": {},
   "outputs": [
    {
     "name": "stdout",
     "output_type": "stream",
     "text": [
      "# A tibble: 187 × 1\n",
      "   full_species               \n",
      "   <chr>                      \n",
      " 1 Allenopithecus_nigroviridis\n",
      " 2 Allochrocebus_lhoesti      \n",
      " 3 Allochrocebus_preussi      \n",
      " 4 Allochrocebus_solatus      \n",
      " 5 Alouatta_belzebul          \n",
      " 6 Alouatta_caraya            \n",
      " 7 Alouatta_discolor          \n",
      " 8 Alouatta_juara             \n",
      " 9 Alouatta_macconnelli       \n",
      "10 Alouatta_nigerrima         \n",
      "# ℹ 177 more rows\n",
      "# ℹ Use `print(n = ...)` to see more rows\n"
     ]
    }
   ],
   "source": [
    "%%R\n",
    "#table_s1 <-\n",
    "unique_species <- df %>% \n",
    "    reframe(\n",
    "        full_species = unique(full_species))\n",
    "\n",
    "unique_species"
   ]
  },
  {
   "cell_type": "code",
   "execution_count": 5,
   "id": "62c3c3db-17e6-4729-b69c-5ce3259b94bd",
   "metadata": {},
   "outputs": [
    {
     "name": "stdout",
     "output_type": "stream",
     "text": [
      "# A tibble: 187 × 2\n",
      "   full_species                count\n",
      "   <chr>                       <int>\n",
      " 1 Allenopithecus_nigroviridis     2\n",
      " 2 Allochrocebus_lhoesti           2\n",
      " 3 Allochrocebus_preussi           1\n",
      " 4 Allochrocebus_solatus           1\n",
      " 5 Alouatta_belzebul               1\n",
      " 6 Alouatta_caraya                 2\n",
      " 7 Alouatta_discolor               2\n",
      " 8 Alouatta_juara                  2\n",
      " 9 Alouatta_macconnelli            5\n",
      "10 Alouatta_nigerrima              2\n",
      "# ℹ 177 more rows\n",
      "# ℹ Use `print(n = ...)` to see more rows\n"
     ]
    }
   ],
   "source": [
    "%%R\n",
    "table_s1 <- total_sample_count %>% filter(full_species %in% unique_species$full_species)\n",
    "table_s1"
   ]
  },
  {
   "cell_type": "code",
   "execution_count": 9,
   "id": "c717d745-364b-4223-84a7-2b08997ee7d0",
   "metadata": {},
   "outputs": [],
   "source": [
    "%%R\n",
    "knitr::kable(table_s1)\n",
    "write.csv(table_s1,'tabel_s1.csv', row.names = F)"
   ]
  },
  {
   "cell_type": "markdown",
   "id": "65546925-8704-4fca-99db-eaa85812dfa2",
   "metadata": {},
   "source": [
    "# s3 Table of the mapping process, per reference genome "
   ]
  },
  {
   "cell_type": "code",
   "execution_count": 12,
   "id": "e831be98-8c8f-4d42-8598-fc011c8599ac",
   "metadata": {},
   "outputs": [
    {
     "name": "stdout",
     "output_type": "stream",
     "text": [
      "Rows: 27 Columns: 3\n",
      "── Column specification ────────────────────────────────────────────────────────\n",
      "Delimiter: \"\\t\"\n",
      "chr (1): Reference_genome\n",
      "dbl (2): Total_Entries, Failed_to_Map\n",
      "\n",
      "ℹ Use `spec()` to retrieve the full column specification for this data.\n",
      "ℹ Specify the column types or set `show_col_types = FALSE` to quiet this message.\n"
     ]
    }
   ],
   "source": [
    "%%R\n",
    "mapping_sucess <- read_delim('supplementary_figures/liftover_mapped_unmapped.tsv', delim = '\\t')\n"
   ]
  },
  {
   "cell_type": "code",
   "execution_count": 13,
   "id": "d1d3d11e-f07f-4e78-950a-6c30932bc714",
   "metadata": {},
   "outputs": [],
   "source": [
    "%%R\n",
    "table_s2 <- mapping_sucess %>% mutate(fraction = Failed_to_Map / Total_Entries)"
   ]
  },
  {
   "cell_type": "code",
   "execution_count": 14,
   "id": "43f84e14-edc8-4808-907b-3cd271641d7b",
   "metadata": {},
   "outputs": [],
   "source": [
    "%%R\n",
    "knitr::kable(table_s2)\n",
    "write.csv(table_s2,'tabel_s2.csv', row.names = F)"
   ]
  },
  {
   "cell_type": "markdown",
   "id": "a400649c-9d52-4fbb-8a62-46b7a855ee1d",
   "metadata": {},
   "source": [
    "# s4 table of windows kept at different filtering levels "
   ]
  },
  {
   "cell_type": "code",
   "execution_count": 15,
   "id": "4ba18002-c41b-4849-af47-77d615994eca",
   "metadata": {},
   "outputs": [],
   "source": [
    "%%R\n",
    "\n",
    "\n",
    "\n",
    "total_no_x <- df %>%\n",
    "    filter(!(chr=='chrX')) %>%\n",
    "    group_by(genus,species) %>%\n",
    "    reframe(\n",
    "        total = n())\n",
    "\n",
    "callability20 <- df %>%\n",
    "    filter(!(chr=='chrX')) %>%\n",
    "    group_by(genus,species) %>%\n",
    "    filter(freq_mean > 0.2) %>%\n",
    "    reframe(\n",
    "        call20 = n())\n",
    "\n",
    "callability40 <- df %>%\n",
    "    filter(!(chr=='chrX')) %>%\n",
    "    group_by(genus,species) %>%\n",
    "    filter(freq_mean > 0.4) %>%\n",
    "    reframe(\n",
    "        call40 = n())\n",
    "\n",
    "callability50 <- df %>%\n",
    "    filter(!(chr=='chrX')) %>%\n",
    "    group_by(genus,species) %>%\n",
    "    filter(freq_mean > 0.5) %>%\n",
    "    reframe(\n",
    "        call50 = n())\n",
    "\n",
    "callability60 <- df %>%\n",
    "    filter(!(chr=='chrX')) %>%\n",
    "    group_by(genus,species) %>%\n",
    "    filter(freq_mean > 0.6) %>%\n",
    "    reframe(\n",
    "        call60 = n())\n",
    "\n",
    "callability70 <- df %>%\n",
    "    filter(!(chr=='chrX')) %>%\n",
    "    group_by(genus,species) %>%\n",
    "    filter(freq_mean > 0.7) %>%\n",
    "    reframe(\n",
    "        call70 = n())\n",
    "\n",
    "callability80 <- df %>%\n",
    "    filter(!(chr=='chrX')) %>%\n",
    "    group_by(genus,species) %>%\n",
    "    filter(freq_mean > 0.8) %>%\n",
    "    reframe(\n",
    "        call80 = n())\n",
    "\n",
    "callability90 <- df %>%\n",
    "    filter(!(chr=='chrX')) %>%\n",
    "    group_by(genus,species) %>%\n",
    "    filter(freq_mean > 0.9) %>%\n",
    "    reframe(\n",
    "        call90 = n())\n",
    "\n",
    "callability95 <- df %>%\n",
    "    filter(!(chr=='chrX')) %>%\n",
    "    group_by(genus,species) %>%\n",
    "    filter(freq_mean > 0.95) %>%\n",
    "    reframe(\n",
    "        call95 = n())\n",
    "\n",
    "kept_windows <- list(total_no_x, callability20, callability40,  callability50, callability60, callability70, callability80, callability90, callability95) %>% reduce(inner_join, by = c('species',\"genus\"))\n"
   ]
  },
  {
   "cell_type": "code",
   "execution_count": 16,
   "id": "deaecdf7-4423-4039-ab5c-6a30c74187db",
   "metadata": {},
   "outputs": [],
   "source": [
    "%%R\n",
    "kept_windows <- kept_windows %>% mutate(full_species = paste(genus, species, sep = '_'))\n"
   ]
  },
  {
   "cell_type": "code",
   "execution_count": 17,
   "id": "b595170e-a534-460d-b1ba-776d034723f3",
   "metadata": {},
   "outputs": [],
   "source": [
    "%%R\n",
    "fraction_retained <- kept_windows %>% group_by(full_species) %>%\n",
    "    reframe(\n",
    "        frac20=call20/total,\n",
    "        frac40=call40/total,\n",
    "        frac50=call50/total,\n",
    "        frac60=call60/total,\n",
    "        frac70=call70/total,\n",
    "        frac80=call80/total,\n",
    "        frac90=call90/total,\n",
    "        frac95=call95/total)"
   ]
  },
  {
   "cell_type": "code",
   "execution_count": 18,
   "id": "596445bf-3fc1-43e7-8115-9ac981df6435",
   "metadata": {},
   "outputs": [
    {
     "name": "stdout",
     "output_type": "stream",
     "text": [
      "`stat_bin()` using `bins = 30`. Pick better value with `binwidth`.\n"
     ]
    },
    {
     "data": {
      "image/png": "[encoded data removed]",
      "text/plain": [
       "<IPython.core.display.Image object>"
      ]
     },
     "metadata": {},
     "output_type": "display_data"
    }
   ],
   "source": [
    "%%R\n",
    "ggplot(data = fraction_retained, aes(x=frac50))+\n",
    "    geom_histogram()+\n",
    "    xlim(0,1)"
   ]
  },
  {
   "cell_type": "code",
   "execution_count": 19,
   "id": "53ef110a-ed2a-4a4f-8748-406befffb710",
   "metadata": {},
   "outputs": [
    {
     "name": "stdout",
     "output_type": "stream",
     "text": [
      "[1] 0.5462185\n"
     ]
    }
   ],
   "source": [
    "%%R\n",
    "min(fraction_retained$frac50)\n",
    "\n"
   ]
  },
  {
   "cell_type": "code",
   "execution_count": 20,
   "id": "1bb5206f-5237-45bd-9502-85ad6970a91f",
   "metadata": {},
   "outputs": [
    {
     "name": "stdout",
     "output_type": "stream",
     "text": [
      "[1] 0.9638582\n"
     ]
    }
   ],
   "source": [
    "%%R\n",
    "max(fraction_retained$frac50)"
   ]
  },
  {
   "cell_type": "code",
   "execution_count": 22,
   "id": "6ae5ccb0-cc3d-422f-8852-54589faa466e",
   "metadata": {},
   "outputs": [],
   "source": [
    "%%R\n",
    "knitr::kable(fraction_retained)\n",
    "write.csv(fraction_retained,'tabel_s3.csv', row.names = F)"
   ]
  },
  {
   "cell_type": "code",
   "execution_count": null,
   "id": "ed89f821-cf1d-45e0-a9f1-6c2acf642d87",
   "metadata": {},
   "outputs": [],
   "source": []
  }
 ],
 "metadata": {
  "kernelspec": {
   "display_name": "Python 3 (ipykernel)",
   "language": "python",
   "name": "python3"
  },
  "language_info": {
   "codemirror_mode": {
    "name": "ipython",
    "version": 3
   },
   "file_extension": ".py",
   "mimetype": "text/x-python",
   "name": "python",
   "nbconvert_exporter": "python",
   "pygments_lexer": "ipython3",
   "version": "3.12.3"
  }
 },
 "nbformat": 4,
 "nbformat_minor": 5
}
