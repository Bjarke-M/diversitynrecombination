{
 "cells": [
  {
   "cell_type": "code",
   "execution_count": 1,
   "id": "5e8bcbf3-5022-49d0-bf45-68838e7659fd",
   "metadata": {},
   "outputs": [],
   "source": [
    "import rpy2\n",
    "\n",
    "%load_ext rpy2.ipython"
   ]
  },
  {
   "cell_type": "code",
   "execution_count": 2,
   "id": "b3c74265-5d97-4f58-b1fe-e15497507a26",
   "metadata": {},
   "outputs": [
    {
     "name": "stdout",
     "output_type": "stream",
     "text": [
      "── Attaching core tidyverse packages ──────────────────────── tidyverse 2.0.0 ──\n",
      "✔ dplyr     1.1.4     ✔ readr     2.1.5\n",
      "✔ forcats   1.0.0     ✔ stringr   1.5.1\n",
      "✔ ggplot2   3.5.1     ✔ tibble    3.2.1\n",
      "✔ lubridate 1.9.3     ✔ tidyr     1.3.1\n",
      "✔ purrr     1.0.2     \n",
      "── Conflicts ────────────────────────────────────────── tidyverse_conflicts() ──\n",
      "✖ dplyr::filter() masks stats::filter()\n",
      "✖ dplyr::lag()    masks stats::lag()\n",
      "ℹ Use the conflicted package (<http://conflicted.r-lib.org/>) to force all conflicts to become errors\n"
     ]
    }
   ],
   "source": [
    "%%R\n",
    "library(tidyverse)"
   ]
  },
  {
   "cell_type": "code",
   "execution_count": 5,
   "id": "6c8dfdb3-e7e8-4688-8530-e1b0464093bb",
   "metadata": {},
   "outputs": [
    {
     "name": "stdout",
     "output_type": "stream",
     "text": [
      "Rows: 1496000 Columns: 4\n",
      "── Column specification ────────────────────────────────────────────────────────\n",
      "Delimiter: \"\\t\"\n",
      "chr (1): Species\n",
      "dbl (3): chain, draw, a\n",
      "\n",
      "ℹ Use `spec()` to retrieve the full column specification for this data.\n",
      "ℹ Specify the column types or set `show_col_types = FALSE` to quiet this message.\n",
      "Rows: 1496000 Columns: 4\n",
      "── Column specification ────────────────────────────────────────────────────────\n",
      "Delimiter: \"\\t\"\n",
      "chr (1): Species\n",
      "dbl (3): chain, draw, b\n",
      "\n",
      "ℹ Use `spec()` to retrieve the full column specification for this data.\n",
      "ℹ Specify the column types or set `show_col_types = FALSE` to quiet this message.\n",
      "Rows: 8000 Columns: 3\n",
      "── Column specification ────────────────────────────────────────────────────────\n",
      "Delimiter: \"\\t\"\n",
      "dbl (3): chain, draw, h0\n",
      "\n",
      "ℹ Use `spec()` to retrieve the full column specification for this data.\n",
      "ℹ Specify the column types or set `show_col_types = FALSE` to quiet this message.\n",
      "Rows: 8000 Columns: 3\n",
      "── Column specification ────────────────────────────────────────────────────────\n",
      "Delimiter: \"\\t\"\n",
      "dbl (3): chain, draw, h1\n",
      "\n",
      "ℹ Use `spec()` to retrieve the full column specification for this data.\n",
      "ℹ Specify the column types or set `show_col_types = FALSE` to quiet this message.\n"
     ]
    }
   ],
   "source": [
    "%%R\n",
    "a <- read_delim('../results/model/Nested_model/log_ne_log_cm_sd_pi/a_24_04_2024.tsv', delim=\"\\t\")\n",
    "b <- read_delim('../results/model/Nested_model/log_ne_log_cm_sd_pi/b_24_04_2024.tsv', delim=\"\\t\")\n",
    "h0 <- read_delim('../results/model/Nested_model/log_ne_log_cm_sd_pi/h0_24_04_2024.tsv', delim=\"\\t\")\n",
    "h1 <- read_delim('../results/model/Nested_model/log_ne_log_cm_sd_pi/h1_24_04_2024.tsv', delim =\"\\t\")"
   ]
  },
  {
   "cell_type": "code",
   "execution_count": 7,
   "id": "434c8897-3eb3-4bbd-bc6e-14ed5f9df5af",
   "metadata": {},
   "outputs": [
    {
     "name": "stdout",
     "output_type": "stream",
     "text": [
      "# A tibble: 1,496,000 × 4\n",
      "   chain  draw Species                          a\n",
      "   <dbl> <dbl> <chr>                        <dbl>\n",
      " 1     0     0 Allenopithecus_nigroviridis 0.0232\n",
      " 2     0     0 Allochrocebus_lhoesti       0.0492\n",
      " 3     0     0 Allochrocebus_preussi       0.0395\n",
      " 4     0     0 Allochrocebus_solatus       0.0343\n",
      " 5     0     0 Alouatta_belzebul           0.0344\n",
      " 6     0     0 Alouatta_caraya             0.0375\n",
      " 7     0     0 Alouatta_discolor           0.0427\n",
      " 8     0     0 Alouatta_juara              0.0418\n",
      " 9     0     0 Alouatta_macconnelli        0.0457\n",
      "10     0     0 Alouatta_nigerrima          0.0508\n",
      "# ℹ 1,495,990 more rows\n",
      "# ℹ Use `print(n = ...)` to see more rows\n"
     ]
    }
   ],
   "source": [
    "%%R\n",
    "a"
   ]
  },
  {
   "cell_type": "code",
   "execution_count": 9,
   "id": "dcdbcfac-0ad9-413e-a40e-f068c569e675",
   "metadata": {},
   "outputs": [
    {
     "name": "stdout",
     "output_type": "stream",
     "text": [
      "# A tibble: 1,496,000 × 4\n",
      "   chain  draw Species                          b\n",
      "   <dbl> <dbl> <chr>                        <dbl>\n",
      " 1     0     0 Allenopithecus_nigroviridis 0.102 \n",
      " 2     0     0 Allochrocebus_lhoesti       0.140 \n",
      " 3     0     0 Allochrocebus_preussi       0.124 \n",
      " 4     0     0 Allochrocebus_solatus       0.103 \n",
      " 5     0     0 Alouatta_belzebul           0.140 \n",
      " 6     0     0 Alouatta_caraya             0.0880\n",
      " 7     0     0 Alouatta_discolor           0.179 \n",
      " 8     0     0 Alouatta_juara              0.159 \n",
      " 9     0     0 Alouatta_macconnelli        0.198 \n",
      "10     0     0 Alouatta_nigerrima          0.204 \n",
      "# ℹ 1,495,990 more rows\n",
      "# ℹ Use `print(n = ...)` to see more rows\n"
     ]
    }
   ],
   "source": [
    "%%R\n",
    "b"
   ]
  },
  {
   "cell_type": "raw",
   "id": "c460ddea-75a9-4aa7-bc96-3432bf3d1024",
   "metadata": {},
   "source": [
    "y = a + bx"
   ]
  },
  {
   "cell_type": "code",
   "execution_count": 11,
   "id": "6cfd30ab-c0a2-4886-8308-73c49b62a207",
   "metadata": {},
   "outputs": [
    {
     "name": "stdout",
     "output_type": "stream",
     "text": [
      "# A tibble: 1,496,000 × 5\n",
      "   chain  draw Species                          a      b\n",
      "   <dbl> <dbl> <chr>                        <dbl>  <dbl>\n",
      " 1     0     0 Allenopithecus_nigroviridis 0.0232 0.102 \n",
      " 2     0     0 Allochrocebus_lhoesti       0.0492 0.140 \n",
      " 3     0     0 Allochrocebus_preussi       0.0395 0.124 \n",
      " 4     0     0 Allochrocebus_solatus       0.0343 0.103 \n",
      " 5     0     0 Alouatta_belzebul           0.0344 0.140 \n",
      " 6     0     0 Alouatta_caraya             0.0375 0.0880\n",
      " 7     0     0 Alouatta_discolor           0.0427 0.179 \n",
      " 8     0     0 Alouatta_juara              0.0418 0.159 \n",
      " 9     0     0 Alouatta_macconnelli        0.0457 0.198 \n",
      "10     0     0 Alouatta_nigerrima          0.0508 0.204 \n",
      "# ℹ 1,495,990 more rows\n",
      "# ℹ Use `print(n = ...)` to see more rows\n"
     ]
    }
   ],
   "source": [
    "%%R\n",
    "df <- left_join(a,b,by=c('chain'='chain','draw'='draw','Species'='Species'))\n",
    "df"
   ]
  },
  {
   "cell_type": "code",
   "execution_count": 18,
   "id": "c93535f3-4cee-4df4-91b1-da169b71aa6c",
   "metadata": {},
   "outputs": [],
   "source": [
    "%%R\n",
    "df <- df %>% mutate(pi_zero = a + b * log10(100)) %>%\n",
    "    group_by(Species) %>%\n",
    "    reframe(pi_zero_median = median(pi_zero))"
   ]
  },
  {
   "cell_type": "code",
   "execution_count": 15,
   "id": "58233026-5dee-4a1d-8ab6-553cde6c273e",
   "metadata": {},
   "outputs": [
    {
     "name": "stdout",
     "output_type": "stream",
     "text": [
      "New names:\n",
      "• `` -> `...1`\n",
      "Rows: 5071829 Columns: 25\n",
      "── Column specification ────────────────────────────────────────────────────────\n",
      "Delimiter: \",\"\n",
      "chr  (4): genus, species, FAMILY, chr\n",
      "dbl (21): ...1, Unnamed: 0, MEAN, MEDIAN, VARIANCE, NE_MEAN, NE_MEDIAN, NE_V...\n",
      "\n",
      "ℹ Use `spec()` to retrieve the full column specification for this data.\n",
      "ℹ Specify the column types or set `show_col_types = FALSE` to quiet this message.\n"
     ]
    }
   ],
   "source": [
    "%%R\n",
    "nes <- read_delim('../results/model/Nested_model/Ne_Pi_recomb.csv', delim = ',') %>% select('genus','species','NE_MEAN','NE_MEDIAN')\n",
    "nes <- nes %>% \n",
    "    group_by(genus,species) %>%\n",
    "    reframe(\n",
    "        NE_MEAN = mean(NE_MEAN),\n",
    "        NE_MEDIAN = mean(NE_MEDIAN))\n",
    "nes <- nes %>% mutate(Species=paste0(genus,'_',species))\n"
   ]
  },
  {
   "cell_type": "code",
   "execution_count": 19,
   "id": "ebb51a26-b97f-4750-b46a-e5b5d067857e",
   "metadata": {},
   "outputs": [
    {
     "name": "stdout",
     "output_type": "stream",
     "text": [
      "# A tibble: 187 × 6\n",
      "   Species                     pi_zero_median genus    species NE_MEAN NE_MEDIAN\n",
      "   <chr>                                <dbl> <chr>    <chr>     <dbl>     <dbl>\n",
      " 1 Allenopithecus_nigroviridis          0.241 Allenop… nigrov…  52454.    48795.\n",
      " 2 Allochrocebus_lhoesti                0.331 Allochr… lhoesti  91523.    83266.\n",
      " 3 Allochrocebus_preussi                0.265 Allochr… preussi  98962.    91644.\n",
      " 4 Allochrocebus_solatus                0.247 Allochr… solatus 110522.   101523.\n",
      " 5 Alouatta_belzebul                    0.300 Alouatta belzeb…  59406.    54570.\n",
      " 6 Alouatta_caraya                      0.193 Alouatta caraya   37473.    35650.\n",
      " 7 Alouatta_discolor                    0.406 Alouatta discol…  75638.    66639.\n",
      " 8 Alouatta_juara                       0.359 Alouatta juara    70735.    65093.\n",
      " 9 Alouatta_macconnelli                 0.454 Alouatta maccon…  67134.    61665.\n",
      "10 Alouatta_nigerrima                   0.468 Alouatta nigerr…  69902.    64414.\n",
      "# ℹ 177 more rows\n",
      "# ℹ Use `print(n = ...)` to see more rows\n"
     ]
    }
   ],
   "source": [
    "%%R\n",
    "df2 <- left_join(df,nes,by= c('Species'='Species'))\n",
    "df2"
   ]
  },
  {
   "cell_type": "code",
   "execution_count": 21,
   "id": "e72b2a8e-54fd-4116-80eb-6ad2dbec9281",
   "metadata": {},
   "outputs": [
    {
     "data": {
      "image/png": "[encoded data removed]",
      "text/plain": [
       "<IPython.core.display.Image object>"
      ]
     },
     "metadata": {},
     "output_type": "display_data"
    }
   ],
   "source": [
    "%%R\n",
    "df2 %>%\n",
    "    ggplot(aes(x=log10(NE_MEDIAN),y=pi_zero_median))+\n",
    "    geom_point()"
   ]
  },
  {
   "cell_type": "code",
   "execution_count": 23,
   "id": "b96e14e5-924d-418a-9f1b-97bce0f12a4b",
   "metadata": {},
   "outputs": [
    {
     "name": "stdout",
     "output_type": "stream",
     "text": [
      "Rows: 5257244 Columns: 16\n",
      "── Column specification ────────────────────────────────────────────────────────\n",
      "Delimiter: \",\"\n",
      "chr  (3): chr, species, genus\n",
      "dbl (13): start, end, freq_mean, freq_min, freq_max, freq_median, window_siz...\n",
      "\n",
      "ℹ Use `spec()` to retrieve the full column specification for this data.\n",
      "ℹ Specify the column types or set `show_col_types = FALSE` to quiet this message.\n"
     ]
    }
   ],
   "source": [
    "%%R\n",
    "df20 <- read_delim('../results/combined/all.csv', delim=',') %>% group_by(genus,species) %>% filter(!(chr=='chrX')) %>% filter(freq_mean > 0.5) %>% mutate(recomb_bin = ntile(cm_per_mb, 20))\n",
    "df20 <- df20 %>% mutate(Species = paste0(genus,'_',species))"
   ]
  },
  {
   "cell_type": "code",
   "execution_count": 24,
   "id": "06f7fd6b-95b2-4896-8e8b-e12739680d96",
   "metadata": {},
   "outputs": [
    {
     "name": "stdout",
     "output_type": "stream",
     "text": [
      "# A tibble: 4,082,964 × 23\n",
      "   Species       pi_zero_median genus.x species.x NE_MEAN NE_MEDIAN chr    start\n",
      "   <chr>                  <dbl> <chr>   <chr>       <dbl>     <dbl> <chr>  <dbl>\n",
      " 1 Allenopithec…          0.241 Alleno… nigrovir…  52454.    48795. chr1  1.60e6\n",
      " 2 Allenopithec…          0.241 Alleno… nigrovir…  52454.    48795. chr1  1.80e6\n",
      " 3 Allenopithec…          0.241 Alleno… nigrovir…  52454.    48795. chr1  1.90e6\n",
      " 4 Allenopithec…          0.241 Alleno… nigrovir…  52454.    48795. chr1  2.00e6\n",
      " 5 Allenopithec…          0.241 Alleno… nigrovir…  52454.    48795. chr1  2.10e6\n",
      " 6 Allenopithec…          0.241 Alleno… nigrovir…  52454.    48795. chr1  2.20e6\n",
      " 7 Allenopithec…          0.241 Alleno… nigrovir…  52454.    48795. chr1  2.30e6\n",
      " 8 Allenopithec…          0.241 Alleno… nigrovir…  52454.    48795. chr1  2.40e6\n",
      " 9 Allenopithec…          0.241 Alleno… nigrovir…  52454.    48795. chr1  2.50e6\n",
      "10 Allenopithec…          0.241 Alleno… nigrovir…  52454.    48795. chr1  2.80e6\n",
      "# ℹ 4,082,954 more rows\n",
      "# ℹ 15 more variables: end <dbl>, freq_mean <dbl>, freq_min <dbl>,\n",
      "#   freq_max <dbl>, freq_median <dbl>, window_size_mean <dbl>,\n",
      "#   sum_n_mean <dbl>, species.y <chr>, genus.y <chr>, cm_start <dbl>,\n",
      "#   cm_end <dbl>, cm_per_mb <dbl>, N_VARIANTS <dbl>, PI <dbl>, recomb_bin <int>\n",
      "# ℹ Use `print(n = ...)` to see more rows\n"
     ]
    }
   ],
   "source": [
    "%%R\n",
    "df3 <- left_join(df2,df20,by = c('Species'='Species'))\n",
    "df3"
   ]
  },
  {
   "cell_type": "code",
   "execution_count": 28,
   "id": "58006419-3d20-48e5-9e28-ac812559d70c",
   "metadata": {},
   "outputs": [
    {
     "data": {
      "image/png": "[encoded data removed]",
      "text/plain": [
       "<IPython.core.display.Image object>"
      ]
     },
     "metadata": {},
     "output_type": "display_data"
    }
   ],
   "source": [
    "%%R\n",
    "df3 %>%\n",
    "    group_by(Species) %>%\n",
    "    reframe(\n",
    "        NE = median(NE_MEDIAN),\n",
    "        pi_zero = median(pi_zero_median),\n",
    "        pi_bar = median(PI)) %>%\n",
    "    ggplot(aes(x=log10(NE),y=pi_bar/pi_zero))+\n",
    "    geom_point()"
   ]
  },
  {
   "cell_type": "code",
   "execution_count": null,
   "id": "37fc85f3-672a-4b14-8f4f-cf4e5b3a63c8",
   "metadata": {},
   "outputs": [],
   "source": []
  }
 ],
 "metadata": {
  "kernelspec": {
   "display_name": "Python 3 (ipykernel)",
   "language": "python",
   "name": "python3"
  },
  "language_info": {
   "codemirror_mode": {
    "name": "ipython",
    "version": 3
   },
   "file_extension": ".py",
   "mimetype": "text/x-python",
   "name": "python",
   "nbconvert_exporter": "python",
   "pygments_lexer": "ipython3",
   "version": "3.12.3"
  }
 },
 "nbformat": 4,
 "nbformat_minor": 5
}
