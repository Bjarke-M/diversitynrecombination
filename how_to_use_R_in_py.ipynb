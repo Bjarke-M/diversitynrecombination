{
 "cells": [
  {
   "cell_type": "code",
   "execution_count": 6,
   "id": "b8b23cd5-434d-423e-ae5f-ac992263b31e",
   "metadata": {},
   "outputs": [],
   "source": [
    "import rpy2\n",
    "\n",
    "%load_ext rpy2.ipython"
   ]
  },
  {
   "cell_type": "code",
   "execution_count": 5,
   "id": "010fad65-04a6-4638-a55a-e259c3fcc3b1",
   "metadata": {},
   "outputs": [
    {
     "name": "stdout",
     "output_type": "stream",
     "text": [
      "bircproject\n"
     ]
    }
   ],
   "source": [
    "%%bash\n",
    "\n",
    "echo $CONDA_DEFAULT_ENV "
   ]
  },
  {
   "cell_type": "code",
   "execution_count": 7,
   "id": "21949266-a115-44cb-b862-1293a531df7c",
   "metadata": {},
   "outputs": [
    {
     "name": "stdout",
     "output_type": "stream",
     "text": [
      "[1] 4\n"
     ]
    }
   ],
   "source": [
    "%%R\n",
    "\n",
    "2+2"
   ]
  },
  {
   "cell_type": "code",
   "execution_count": 8,
   "id": "2462a6d3-fb01-4c54-8b5d-d7aae36592e9",
   "metadata": {},
   "outputs": [
    {
     "data": {
      "text/plain": [
       "4"
      ]
     },
     "execution_count": 8,
     "metadata": {},
     "output_type": "execute_result"
    }
   ],
   "source": [
    "2+2"
   ]
  },
  {
   "cell_type": "code",
   "execution_count": 12,
   "id": "e563671e-79cb-42f6-ae40-774e592ceec7",
   "metadata": {},
   "outputs": [
    {
     "data": {
      "text/html": [
       "<div>\n",
       "<style scoped>\n",
       "    .dataframe tbody tr th:only-of-type {\n",
       "        vertical-align: middle;\n",
       "    }\n",
       "\n",
       "    .dataframe tbody tr th {\n",
       "        vertical-align: top;\n",
       "    }\n",
       "\n",
       "    .dataframe thead th {\n",
       "        text-align: right;\n",
       "    }\n",
       "</style>\n",
       "<table border=\"1\" class=\"dataframe\">\n",
       "  <thead>\n",
       "    <tr style=\"text-align: right;\">\n",
       "      <th></th>\n",
       "      <th>a</th>\n",
       "    </tr>\n",
       "  </thead>\n",
       "  <tbody>\n",
       "    <tr>\n",
       "      <th>0</th>\n",
       "      <td>1</td>\n",
       "    </tr>\n",
       "  </tbody>\n",
       "</table>\n",
       "</div>"
      ],
      "text/plain": [
       "   a\n",
       "0  1"
      ]
     },
     "execution_count": 12,
     "metadata": {},
     "output_type": "execute_result"
    }
   ],
   "source": [
    "import pandas as pd\n",
    "\n",
    "df = pd.DataFrame({\"a\" : [1]})\n",
    "df"
   ]
  },
  {
   "cell_type": "code",
   "execution_count": 13,
   "id": "5c770167-0cda-43fb-928e-a1155897a2a4",
   "metadata": {},
   "outputs": [],
   "source": [
    "%R -i df "
   ]
  },
  {
   "cell_type": "code",
   "execution_count": 14,
   "id": "4c59fd34-9cf2-47ca-b62b-1913f3306971",
   "metadata": {},
   "outputs": [
    {
     "name": "stdout",
     "output_type": "stream",
     "text": [
      "  a\n",
      "0 1\n"
     ]
    }
   ],
   "source": [
    "%%R\n",
    "\n",
    "df"
   ]
  },
  {
   "cell_type": "code",
   "execution_count": 16,
   "id": "ede51394-d319-469f-98f2-bedc74fd5109",
   "metadata": {},
   "outputs": [
    {
     "name": "stdout",
     "output_type": "stream",
     "text": [
      "── Attaching core tidyverse packages ──────────────────────── tidyverse 2.0.0 ──\n",
      "✔ dplyr     1.1.4     ✔ readr     2.1.4\n",
      "✔ forcats   1.0.0     ✔ stringr   1.5.1\n",
      "✔ lubridate 1.9.3     ✔ tibble    3.2.1\n",
      "✔ purrr     1.0.2     ✔ tidyr     1.3.0\n",
      "── Conflicts ────────────────────────────────────────── tidyverse_conflicts() ──\n",
      "✖ dplyr::filter() masks stats::filter()\n",
      "✖ dplyr::lag()    masks stats::lag()\n",
      "ℹ Use the conflicted package (<http://conflicted.r-lib.org/>) to force all conflicts to become errors\n"
     ]
    }
   ],
   "source": [
    "%%R\n",
    "\n",
    "library(ggplot2)\n",
    "library(tidyverse)"
   ]
  },
  {
   "cell_type": "code",
   "execution_count": 19,
   "id": "143d2eb8-b1b9-429d-b0ff-ee8524363522",
   "metadata": {},
   "outputs": [
    {
     "data": {
      "image/png": "[encoded data removed]",
      "text/plain": [
       "<IPython.core.display.Image object>"
      ]
     },
     "metadata": {},
     "output_type": "display_data"
    }
   ],
   "source": [
    "%%R -w 1500 -h 1500\n",
    "\n",
    "data.frame(x = c(1), y = c(1)) %>%\n",
    "    ggplot() +\n",
    "    geom_point(aes(x = x, y = y))"
   ]
  },
  {
   "cell_type": "code",
   "execution_count": null,
   "id": "6b308e7e-d53c-4663-8efa-0e55a4809333",
   "metadata": {},
   "outputs": [],
   "source": []
  }
 ],
 "metadata": {
  "kernelspec": {
   "display_name": "Python 3 (ipykernel)",
   "language": "python",
   "name": "python3"
  },
  "language_info": {
   "codemirror_mode": {
    "name": "ipython",
    "version": 3
   },
   "file_extension": ".py",
   "mimetype": "text/x-python",
   "name": "python",
   "nbconvert_exporter": "python",
   "pygments_lexer": "ipython3",
   "version": "3.10.13"
  }
 },
 "nbformat": 4,
 "nbformat_minor": 5
}
