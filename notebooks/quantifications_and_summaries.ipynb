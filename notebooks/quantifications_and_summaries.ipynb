{
 "cells": [
  {
   "cell_type": "markdown",
   "id": "36aa12ee-28d7-4a86-b960-74728ea9aa15",
   "metadata": {},
   "source": [
    "# Quantifications"
   ]
  },
  {
   "cell_type": "code",
   "execution_count": 1,
   "id": "e313e3c3-e644-4dea-ab6b-9e2b439587cd",
   "metadata": {},
   "outputs": [],
   "source": [
    "import rpy2\n",
    "\n",
    "%load_ext rpy2.ipython"
   ]
  },
  {
   "cell_type": "code",
   "execution_count": 2,
   "id": "b88e27f6-59a8-42ec-b83d-5d849d577eca",
   "metadata": {},
   "outputs": [
    {
     "name": "stdout",
     "output_type": "stream",
     "text": [
      "── Attaching core tidyverse packages ──────────────────────── tidyverse 2.0.0 ──\n",
      "✔ dplyr     1.1.4     ✔ readr     2.1.5\n",
      "✔ forcats   1.0.0     ✔ stringr   1.5.1\n",
      "✔ ggplot2   3.5.1     ✔ tibble    3.2.1\n",
      "✔ lubridate 1.9.3     ✔ tidyr     1.3.1\n",
      "✔ purrr     1.0.2     \n",
      "── Conflicts ────────────────────────────────────────── tidyverse_conflicts() ──\n",
      "✖ dplyr::filter() masks stats::filter()\n",
      "✖ dplyr::lag()    masks stats::lag()\n",
      "ℹ Use the conflicted package (<http://conflicted.r-lib.org/>) to force all conflicts to become errors\n"
     ]
    }
   ],
   "source": [
    "%%R\n",
    "library(tidyverse)\n",
    "library(ggpubr)"
   ]
  },
  {
   "cell_type": "code",
   "execution_count": 4,
   "id": "41de0113-8cc8-4b23-87bf-aac0406f619c",
   "metadata": {},
   "outputs": [
    {
     "name": "stdout",
     "output_type": "stream",
     "text": [
      "Rows: 5257244 Columns: 16\n",
      "── Column specification ────────────────────────────────────────────────────────\n",
      "Delimiter: \",\"\n",
      "chr  (3): chr, species, genus\n",
      "dbl (13): start, end, freq_mean, freq_min, freq_max, freq_median, window_siz...\n",
      "\n",
      "ℹ Use `spec()` to retrieve the full column specification for this data.\n",
      "ℹ Specify the column types or set `show_col_types = FALSE` to quiet this message.\n",
      "Rows: 57 Columns: 2\n",
      "── Column specification ────────────────────────────────────────────────────────\n",
      "Delimiter: \"\\t\"\n",
      "chr (2): genus, pg_name\n",
      "\n",
      "ℹ Use `spec()` to retrieve the full column specification for this data.\n",
      "ℹ Specify the column types or set `show_col_types = FALSE` to quiet this message.\n",
      "New names:\n",
      "• `` -> `...1`\n",
      "Rows: 5071829 Columns: 25\n",
      "── Column specification ────────────────────────────────────────────────────────\n",
      "Delimiter: \",\"\n",
      "chr  (4): genus, species, FAMILY, chr\n",
      "dbl (21): ...1, Unnamed: 0, MEAN, MEDIAN, VARIANCE, NE_MEAN, NE_MEDIAN, NE_V...\n",
      "\n",
      "ℹ Use `spec()` to retrieve the full column specification for this data.\n",
      "ℹ Specify the column types or set `show_col_types = FALSE` to quiet this message.\n"
     ]
    }
   ],
   "source": [
    "%%R\n",
    "df20 <- read_delim('../results/combined/all.csv', delim=',') %>% group_by(genus,species) %>% filter(!(chr=='chrX')) %>% filter(freq_mean > 0.5) %>% mutate(recomb_bin = ntile(cm_per_mb, 20))  %>% filter(!(species %in% c('zaza','albinasus')))\n",
    "pg_namedf <- read_delim('../data/genus_phylogenetic_group_metadata.txt', delim='\\t')\n",
    "merge_pg_name <- left_join(df20,pg_namedf, by = c('genus'='genus'))\n",
    "merge_pg_name$pg_name <- as_factor(merge_pg_name$pg_name)\n",
    "nes <- read_delim('../results/model/Nested_model/Ne_Pi_recomb.csv', delim = ',') %>% select('genus','species','NE_MEAN','NE_MEDIAN')\n",
    "nes <- nes %>% \n",
    "    group_by(genus,species) %>%\n",
    "    reframe(\n",
    "        NE_MEAN = mean(NE_MEAN),\n",
    "        NE_MEDIAN = mean(NE_MEDIAN))\n",
    "df <- left_join(merge_pg_name,nes, by = c('genus'='genus','species'='species'))"
   ]
  },
  {
   "cell_type": "code",
   "execution_count": 5,
   "id": "b45b55b5-81ec-48de-9c3b-abcc0c8ce87e",
   "metadata": {},
   "outputs": [
    {
     "name": "stdout",
     "output_type": "stream",
     "text": [
      "# A tibble: 6 × 18\n",
      "# Groups:   genus, species [1]\n",
      "  chr     start     end freq_mean freq_min freq_max freq_median window_size_mean\n",
      "  <chr>   <dbl>   <dbl>     <dbl>    <dbl>    <dbl>       <dbl>            <dbl>\n",
      "1 chr1  1800001 1900000     0.677    0.677    0.677       0.677            99999\n",
      "2 chr1  1900001 2000000     0.571    0.571    0.571       0.571            99999\n",
      "3 chr1  2100001 2200000     0.671    0.671    0.671       0.671            99999\n",
      "4 chr1  2200001 2300000     0.727    0.727    0.727       0.727            99999\n",
      "5 chr1  2400001 2500000     0.748    0.748    0.748       0.748            99999\n",
      "6 chr1  2500001 2600000     0.755    0.755    0.755       0.755            99999\n",
      "# ℹ 10 more variables: sum_n_mean <dbl>, species <chr>, genus <chr>,\n",
      "#   cm_start <dbl>, cm_end <dbl>, cm_per_mb <dbl>, N_VARIANTS <dbl>, PI <dbl>,\n",
      "#   recomb_bin <int>, pg_name <fct>\n"
     ]
    }
   ],
   "source": [
    "%%R\n",
    "head(merge_pg_name)"
   ]
  },
  {
   "cell_type": "code",
   "execution_count": 6,
   "id": "2eb00773-5e9b-4dfa-816d-fb6b4f79d939",
   "metadata": {},
   "outputs": [],
   "source": [
    "%%R\n",
    "windows_and_snps <- merge_pg_name %>% \n",
    "    group_by(genus,species) %>%\n",
    "    reframe(\n",
    "        total_variants = sum(N_VARIANTS),\n",
    "        total_windows = n(),\n",
    "        median_pi = median(PI),\n",
    "        mean_pi = mean(PI),\n",
    "        variance_pi = var(PI)\n",
    "    )"
   ]
  },
  {
   "cell_type": "code",
   "execution_count": 7,
   "id": "9d5342db-b4da-4aa2-b8c9-e87a26da2f14",
   "metadata": {},
   "outputs": [
    {
     "name": "stdout",
     "output_type": "stream",
     "text": [
      "# A tibble: 192 × 7\n",
      "   genus      species total_variants total_windows median_pi mean_pi variance_pi\n",
      "   <chr>      <chr>            <dbl>         <int>     <dbl>   <dbl>       <dbl>\n",
      " 1 Allenopit… nigrov…        7804794         25028   0.00156 0.00172  0.00000110\n",
      " 2 Allochroc… lhoesti       13334959         25110   0.00280 0.00294  0.00000215\n",
      " 3 Allochroc… preussi        7651873         25063   0.00303 0.00305  0.00000421\n",
      " 4 Allochroc… solatus        8793179         24347   0.00372 0.00361  0.00000566\n",
      " 5 Alouatta   belzeb…        4582210         22125   0.00184 0.00207  0.00000254\n",
      " 6 Alouatta   caraya         6203590         21783   0.00127 0.00152  0.00000208\n",
      " 7 Alouatta   discol…       10549240         22256   0.00230 0.00258  0.00000264\n",
      " 8 Alouatta   juara         10284680         22301   0.00235 0.00253  0.00000223\n",
      " 9 Alouatta   maccon…       15275886         22265   0.00231 0.00242  0.00000157\n",
      "10 Alouatta   nigerr…        9520336         22218   0.00231 0.00239  0.00000165\n",
      "# ℹ 182 more rows\n",
      "# ℹ Use `print(n = ...)` to see more rows\n"
     ]
    }
   ],
   "source": [
    "%%R\n",
    "windows_and_snps"
   ]
  },
  {
   "cell_type": "code",
   "execution_count": 8,
   "id": "6de27e13-d5b6-4dfd-a1d5-0b16a9f19656",
   "metadata": {},
   "outputs": [
    {
     "name": "stdout",
     "output_type": "stream",
     "text": [
      "# A tibble: 1 × 4\n",
      "  median   max   min     sum\n",
      "   <dbl> <int> <int>   <int>\n",
      "1 23552. 49453  4861 4188996\n"
     ]
    }
   ],
   "source": [
    "%%R\n",
    "windows_and_snps %>%\n",
    "    reframe(\n",
    "        median = median(total_windows),\n",
    "        max = max(total_windows),\n",
    "        min = min(total_windows),\n",
    "    sum = sum(total_windows))"
   ]
  },
  {
   "cell_type": "code",
   "execution_count": 9,
   "id": "a5ff236b-8310-4556-8499-de649d5dd60d",
   "metadata": {},
   "outputs": [
    {
     "name": "stdout",
     "output_type": "stream",
     "text": [
      "# A tibble: 1 × 4\n",
      "   median      max    min        sum\n",
      "    <dbl>    <dbl>  <dbl>      <dbl>\n",
      "1 5725887 88390840 738670 1729320065\n"
     ]
    }
   ],
   "source": [
    "%%R\n",
    "windows_and_snps %>%\n",
    "    reframe(\n",
    "        median = median(total_variants),\n",
    "        max = max(total_variants),\n",
    "        min = min(total_variants),\n",
    "    sum = sum(total_variants))"
   ]
  },
  {
   "cell_type": "code",
   "execution_count": 9,
   "id": "f913a4d2-a025-4ffd-ad7c-0f0b3847bc9e",
   "metadata": {},
   "outputs": [
    {
     "name": "stdout",
     "output_type": "stream",
     "text": [
      "# A tibble: 2 × 7\n",
      "  genus  species      total_variants total_windows median_pi mean_pi variance_pi\n",
      "  <chr>  <chr>                 <dbl>         <int>     <dbl>   <dbl>       <dbl>\n",
      "1 Ateles chamek             88390840         23145   0.00693 6.83e-3 0.00000290 \n",
      "2 Galago senegalensis         738670         12760   0.00037 5.79e-4 0.000000292\n"
     ]
    }
   ],
   "source": [
    "%%R\n",
    "windows_and_snps %>% filter(total_variants %in% c(max(total_variants),min(total_variants)))"
   ]
  },
  {
   "cell_type": "code",
   "execution_count": 10,
   "id": "d5024173-2360-410a-acf9-fff6fb1aac38",
   "metadata": {},
   "outputs": [
    {
     "name": "stdout",
     "output_type": "stream",
     "text": [
      "# A tibble: 2 × 7\n",
      "  genus  species    total_variants total_windows median_pi mean_pi variance_pi\n",
      "  <chr>  <chr>               <dbl>         <int>     <dbl>   <dbl>       <dbl>\n",
      "1 Macaca assamensis        1438418          4861   0.00301 0.00296  0.00000149\n",
      "2 Pongo  pygmaeus         18741594         49453   0.00192 0.00206  0.00000221\n"
     ]
    }
   ],
   "source": [
    "%%R\n",
    "windows_and_snps %>% filter(total_windows %in% c(max(total_windows),min(total_windows)))"
   ]
  },
  {
   "cell_type": "code",
   "execution_count": 15,
   "id": "8f58921a-305c-4730-a32b-daa67b1081f3",
   "metadata": {},
   "outputs": [
    {
     "name": "stdout",
     "output_type": "stream",
     "text": [
      "# A tibble: 2 × 7\n",
      "  genus       species total_variants total_windows median_pi mean_pi variance_pi\n",
      "  <chr>       <chr>            <dbl>         <int>     <dbl>   <dbl>       <dbl>\n",
      "1 Alouatta    pallia…        1165969         20703   0.00016 5.63e-4  0.00000190\n",
      "2 Semnopithe… entell…       85217932         24763   0.00856 8.65e-3  0.00000180\n"
     ]
    }
   ],
   "source": [
    "%%R\n",
    "windows_and_snps %>% \n",
    "    filter(median_pi %in% c(max(median_pi),min(median_pi)))"
   ]
  },
  {
   "cell_type": "code",
   "execution_count": 12,
   "id": "bd419e35-004d-425d-b75a-4c80c9098240",
   "metadata": {},
   "outputs": [
    {
     "name": "stdout",
     "output_type": "stream",
     "text": [
      "# A tibble: 2 × 7\n",
      "  genus       species total_variants total_windows median_pi mean_pi variance_pi\n",
      "  <chr>       <chr>            <dbl>         <int>     <dbl>   <dbl>       <dbl>\n",
      "1 Mico        spnv            996856         23787   0.00019 4.19e-4 0.000000671\n",
      "2 Semnopithe… entell…       85217932         24763   0.00856 8.65e-3 0.00000180 \n"
     ]
    }
   ],
   "source": [
    "%%R\n",
    "windows_and_snps %>% filter(mean_pi %in% c(max(mean_pi),min(mean_pi)))"
   ]
  },
  {
   "cell_type": "code",
   "execution_count": 13,
   "id": "755666ec-7ba1-44f7-9704-89bf9c58e226",
   "metadata": {},
   "outputs": [
    {
     "name": "stdout",
     "output_type": "stream",
     "text": [
      "# A tibble: 2 × 7\n",
      "  genus       species total_variants total_windows median_pi mean_pi variance_pi\n",
      "  <chr>       <chr>            <dbl>         <int>     <dbl>   <dbl>       <dbl>\n",
      "1 Daubentonia madaga…         863144         18756   0.0004  4.60e-4 0.000000191\n",
      "2 Eulemur     albifr…        6106522         14417   0.00411 4.24e-3 0.00000716 \n"
     ]
    }
   ],
   "source": [
    "%%R\n",
    "windows_and_snps %>% filter(variance_pi %in% c(max(variance_pi),min(variance_pi)))"
   ]
  },
  {
   "cell_type": "code",
   "execution_count": 14,
   "id": "8f47eee4-9bd1-4540-a2f7-86efc125218d",
   "metadata": {},
   "outputs": [
    {
     "name": "stdout",
     "output_type": "stream",
     "text": [
      "New names:\n",
      "• `` -> `...1`\n",
      "Rows: 5071829 Columns: 25\n",
      "── Column specification ────────────────────────────────────────────────────────\n",
      "Delimiter: \",\"\n",
      "chr  (4): genus, species, FAMILY, chr\n",
      "dbl (21): ...1, Unnamed: 0, MEAN, MEDIAN, VARIANCE, NE_MEAN, NE_MEDIAN, NE_V...\n",
      "\n",
      "ℹ Use `spec()` to retrieve the full column specification for this data.\n",
      "ℹ Specify the column types or set `show_col_types = FALSE` to quiet this message.\n"
     ]
    }
   ],
   "source": [
    "%%R\n",
    "nes <- read_delim('../results/model/Nested_model/Ne_Pi_recomb.csv', delim = ',') %>% select('genus','species','NE_MEAN','NE_MEDIAN')\n",
    "nes <- nes %>% \n",
    "    group_by(genus,species) %>%\n",
    "    reframe(\n",
    "        NE_MEAN = mean(NE_MEAN),\n",
    "        NE_MEDIAN = mean(NE_MEDIAN))"
   ]
  },
  {
   "cell_type": "code",
   "execution_count": 19,
   "id": "a762f2d2-5afd-4a87-80cd-23661aca427e",
   "metadata": {},
   "outputs": [
    {
     "name": "stdout",
     "output_type": "stream",
     "text": [
      "# A tibble: 2 × 4\n",
      "  genus         species NE_MEAN NE_MEDIAN\n",
      "  <chr>         <chr>     <dbl>     <dbl>\n",
      "1 Cercopithecus cephus  274690.   245939.\n",
      "2 Rhinopithecus bieti    10261.     9517.\n"
     ]
    }
   ],
   "source": [
    "%%R\n",
    "nes %>% filter(!(species %in% c('zaza','albinasus'))) %>%\n",
    "    filter(NE_MEDIAN %in% c(max(NE_MEDIAN),min(NE_MEDIAN)))"
   ]
  },
  {
   "cell_type": "code",
   "execution_count": null,
   "id": "0cd560bc-0b86-4f9a-acec-65ce56f1b1ee",
   "metadata": {},
   "outputs": [],
   "source": []
  }
 ],
 "metadata": {
  "kernelspec": {
   "display_name": "bircproject",
   "language": "python",
   "name": "python3"
  },
  "language_info": {
   "codemirror_mode": {
    "name": "ipython",
    "version": 3
   },
   "file_extension": ".py",
   "mimetype": "text/x-python",
   "name": "python",
   "nbconvert_exporter": "python",
   "pygments_lexer": "ipython3",
   "version": "3.12.3"
  }
 },
 "nbformat": 4,
 "nbformat_minor": 5
}
