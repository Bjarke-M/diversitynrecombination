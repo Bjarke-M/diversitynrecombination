{
 "cells": [
  {
   "cell_type": "code",
   "execution_count": null,
   "id": "2c4bf08a-ec57-4fd7-9313-dabffeca515a",
   "metadata": {},
   "outputs": [],
   "source": [
    "import arviz as az\n",
    "import pandas as pd\n",
    "import matplotlib.pyplot as plt\n",
    "import numpy as np\n",
    "import pymc as pm\n",
    "import bambi as bmb\n",
    "import xarray as xr\n",
    "import random\n",
    "%load_ext rpy2.ipython\n"
   ]
  },
  {
   "cell_type": "code",
   "execution_count": null,
   "id": "299789b5-9f27-4f1b-b0fa-8eceed827d38",
   "metadata": {},
   "outputs": [],
   "source": [
    "%%R\n",
    "library(tidyverse)"
   ]
  },
  {
   "cell_type": "code",
   "execution_count": null,
   "id": "ee8a13bc-6b8c-4e85-a1eb-e8f41dac1f3b",
   "metadata": {},
   "outputs": [],
   "source": [
    "%%R\n",
    "b_species <- read_delim('../results/model/Nested_model/b_14_12_2023', delim = '\\t')\n",
    "h0 <- read_delim('../results/model/Nested_model/h0_14_12_2023', delim = '\\t')\n",
    "h1 <- read_delim('../results/model/Nested_model/h1_14_12_2023', delim = '\\t')\n",
    "Ne <- read_csv('../results/model/Nested_model/Reduced_Ne_Pi_recomb.csv') %>% select(full_species,NE_MEDIAN) %>% distinct(full_species, .keep_all=TRUE)"
   ]
  },
  {
   "cell_type": "code",
   "execution_count": null,
   "id": "e8f54653-dbdb-4499-9241-1004c7bf83a8",
   "metadata": {},
   "outputs": [],
   "source": [
    "%%R\n",
    "b_species <- b_species %>% \n",
    "    group_by(Species,draw) %>% reframe(\n",
    "    b = mean(b)) %>%\n",
    "    group_by(Species) %>% reframe(\n",
    "    sd = sd(b),\n",
    "    b = mean(b))\n",
    "b_species"
   ]
  },
  {
   "cell_type": "code",
   "execution_count": null,
   "id": "d5a77a19-6404-4ef0-98df-65f6088e13ef",
   "metadata": {},
   "outputs": [],
   "source": [
    "%%R\n",
    "merged_data <- merge(b_species, Ne, by.x = \"Species\", by.y = \"full_species\", all.x = TRUE) \n",
    "merged_data <- merged_data %>% mutate(\n",
    "    scaled_ne = scale(merged_data$NE_MEDIAN,center=TRUE,scale=TRUE))"
   ]
  },
  {
   "cell_type": "code",
   "execution_count": null,
   "id": "aaae8544-66b7-47a5-b063-762268c458a8",
   "metadata": {},
   "outputs": [],
   "source": [
    "%%R\n",
    "fig1 <- merged_data %>% ggplot(aes(x=NE_MEDIAN,y=b))+\n",
    "geom_point(aes(col=NE_MEDIAN))+\n",
    "geom_line(aes(x=NE_MEDIAN, y=(mean(h0$h0))+(mean(h1$h1)*scaled_ne)), lty = 2)+\n",
    "geom_errorbar(aes(ymin=b-sd, ymax=b+sd, col = NE_MEDIAN), width=.2,\n",
    "                 position=position_dodge(.9)) +\n",
    "scale_color_continuous(low = \"#ffff33\", high = \"#e41a1c\") +\n",
    "theme(plot.margin = margin(t = 0, r = 0, b = 0, l = 0.2, unit = \"cm\"), legend.key.size = unit(0.5,\"line\"))+\n",
    " ylab(\"Slope\")+\n",
    " xlab('Median Effecive population size')+\n",
    "theme_classic()+\n",
    "theme(legend.position = \"none\")"
   ]
  },
  {
   "cell_type": "code",
   "execution_count": null,
   "id": "4002b6f5-f1a4-43fa-9d5e-c4369fff4b8f",
   "metadata": {},
   "outputs": [],
   "source": [
    "%%R\n",
    "ggsave('test.pdf')"
   ]
  }
 ],
 "metadata": {
  "kernelspec": {
   "display_name": "Python 3 (ipykernel)",
   "language": "python",
   "name": "python3"
  },
  "language_info": {
   "codemirror_mode": {
    "name": "ipython",
    "version": 3
   },
   "file_extension": ".py",
   "mimetype": "text/x-python",
   "name": "python",
   "nbconvert_exporter": "python",
   "pygments_lexer": "ipython3",
   "version": "3.10.13"
  }
 },
 "nbformat": 4,
 "nbformat_minor": 5
}
