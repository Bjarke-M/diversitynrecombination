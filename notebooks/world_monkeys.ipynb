{
 "cells": [
  {
   "cell_type": "code",
   "execution_count": 3,
   "id": "b2a193da-788b-4b18-a773-cc2d361a381e",
   "metadata": {},
   "outputs": [],
   "source": [
    "import matplotlib\n",
    "import seaborn\n",
    "import pandas as pd "
   ]
  },
  {
   "cell_type": "code",
   "execution_count": 28,
   "id": "0e6baf46-8b72-435d-b918-8ce20961b26b",
   "metadata": {},
   "outputs": [],
   "source": [
    "Old_world_monkeys=[\n",
    "    'Allenopithecus',\n",
    "    'Lophocebus',\n",
    "    'Allochrocebus',\n",
    "    'Cercocebus',\n",
    "    'Cercopithecus',\n",
    "    'Chlorocebus',\n",
    "    'Colobus',\n",
    "    'Erythrocebus',\n",
    "    'Macaca',\n",
    "    'Mandrillus',\n",
    "    'Miopithecus',\n",
    "    'Rhinopithecus',\n",
    "    'Semnopithecus',\n",
    "    'Trachypithecus'\n",
    "]\n",
    "\n",
    "\n",
    "Prosimians = [\n",
    "    'Eulemur',\n",
    "    'Galago',\n",
    "    'Loris',\n",
    "    'Otolemur',\n",
    "    'Arctocebus',\n",
    "    'Cheirogaleus',\n",
    "    'Daubentonia',\n",
    "    'Galagoides',\n",
    "    'Hapalemur',\n",
    "    'Lemur',\n",
    "    'Lepilemur',\n",
    "    'Microcebus',\n",
    "    'Mirza',\n",
    "    'Nycticebus',\n",
    "    'Perodicticus',\n",
    "    'Prolemur',\n",
    "    'Varecia']\n",
    "\n",
    "Great_apes = [\n",
    "    'Gorilla',\n",
    "    'Hylobates',\n",
    "    'Pan',\n",
    "    'Pongo',\n",
    "    'Hoolock',\n",
    "    'Nomascus',\n",
    "]\n",
    "\n",
    "New_world_monkeys= [\n",
    "    'Aotus',\n",
    "    'Ateles',\n",
    "    'Callibella',\n",
    "    'Saguinus',\n",
    "    'Alouatta',\n",
    "    'Cacajao',\n",
    "    'Callimico',\n",
    "    'Callithrix',\n",
    "    'Cebuella',\n",
    "    'Cebus',\n",
    "    'Cheracebus',\n",
    "    'Chiropotes',\n",
    "    'Lagothrix',\n",
    "    'Leontocebus',\n",
    "    'Leontopithecus',\n",
    "    'Mico',\n",
    "    'Pithecia',\n",
    "    'Plecturocebus', \n",
    "    'Saimiri',\n",
    "    'Sapajus',\n",
    "]\n",
    "\n"
   ]
  },
  {
   "cell_type": "code",
   "execution_count": 29,
   "id": "7c8173c5-cf06-4d84-b7ee-32854131e83f",
   "metadata": {},
   "outputs": [],
   "source": [
    "combined_data = [\n",
    "    (genus, 'Old_world_monkeys') for genus in Old_world_monkeys\n",
    "] + [\n",
    "    (genus, 'Prosimians') for genus in Prosimians\n",
    "] + [\n",
    "    (genus, 'Great_apes') for genus in Great_apes\n",
    "] + [\n",
    "    (genus, 'New_world_monkeys') for genus in New_world_monkeys\n",
    "]"
   ]
  },
  {
   "cell_type": "code",
   "execution_count": 30,
   "id": "098023e1-f51d-46a4-98c7-492e8ebacb39",
   "metadata": {},
   "outputs": [
    {
     "data": {
      "text/plain": [
       "57"
      ]
     },
     "execution_count": 30,
     "metadata": {},
     "output_type": "execute_result"
    }
   ],
   "source": [
    "len(combined_data)"
   ]
  },
  {
   "cell_type": "code",
   "execution_count": 31,
   "id": "b59b7fd3-a098-4edb-a122-d004851f28ca",
   "metadata": {},
   "outputs": [],
   "source": [
    "# Write data to a text file\n",
    "with open('../data/genus_phylogenetic_group_metadata.txt', 'w') as file:\n",
    "    file.write(\"genus_name\\tpg_name\\n\")\n",
    "    for genus, pg_name in combined_data:\n",
    "        file.write(f\"{genus}\\t{pg_name}\\n\")\n",
    "file.close()\n"
   ]
  },
  {
   "cell_type": "code",
   "execution_count": null,
   "id": "0584c258-2b3b-4a58-ad52-a8c7dc38a502",
   "metadata": {},
   "outputs": [],
   "source": []
  }
 ],
 "metadata": {
  "kernelspec": {
   "display_name": "Python 3 (ipykernel)",
   "language": "python",
   "name": "python3"
  },
  "language_info": {
   "codemirror_mode": {
    "name": "ipython",
    "version": 3
   },
   "file_extension": ".py",
   "mimetype": "text/x-python",
   "name": "python",
   "nbconvert_exporter": "python",
   "pygments_lexer": "ipython3",
   "version": "3.10.13"
  }
 },
 "nbformat": 4,
 "nbformat_minor": 5
}
