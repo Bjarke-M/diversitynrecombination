{
 "cells": [
  {
   "cell_type": "code",
   "execution_count": 4,
   "id": "b2a193da-788b-4b18-a773-cc2d361a381e",
   "metadata": {},
   "outputs": [],
   "source": [
    "import matplotlib\n",
    "import seaborn\n",
    "import pandas as pd "
   ]
  },
  {
   "cell_type": "code",
   "execution_count": 19,
   "id": "9c78f86d-fbd3-4fe5-bc53-5b02f0287aa7",
   "metadata": {},
   "outputs": [
    {
     "name": "stderr",
     "output_type": "stream",
     "text": [
      "/scratch/27263218/ipykernel_3427029/99084243.py:1: DtypeWarning: Columns (5) have mixed types. Specify dtype option on import or set low_memory=False.\n",
      "  df = pd.read_csv('../../../../results/combined/Macaca_mulatta/Macaca_mulatta_10000_combined.csv',delim_whitespace=True)\n"
     ]
    }
   ],
   "source": [
    "df = pd.read_csv('../../../../results/combined/Macaca_mulatta/Macaca_mulatta_10000_combined.csv',delim_whitespace=True)\n",
    "df = df.dropna(axis=0)"
   ]
  },
  {
   "cell_type": "code",
   "execution_count": null,
   "id": "26bbbbfc-2655-4bbc-9141-d72fa893ccd4",
   "metadata": {},
   "outputs": [],
   "source": []
  },
  {
   "cell_type": "code",
   "execution_count": null,
   "id": "0e6baf46-8b72-435d-b918-8ce20961b26b",
   "metadata": {},
   "outputs": [],
   "source": []
  }
 ],
 "metadata": {
  "kernelspec": {
   "display_name": "Python 3 (ipykernel)",
   "language": "python",
   "name": "python3"
  },
  "language_info": {
   "codemirror_mode": {
    "name": "ipython",
    "version": 3
   },
   "file_extension": ".py",
   "mimetype": "text/x-python",
   "name": "python",
   "nbconvert_exporter": "python",
   "pygments_lexer": "ipython3",
   "version": "3.10.13"
  }
 },
 "nbformat": 4,
 "nbformat_minor": 5
}
